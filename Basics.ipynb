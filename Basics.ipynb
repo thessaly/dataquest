{
 "cells": [
  {
   "cell_type": "markdown",
   "metadata": {},
   "source": [
    "# Análisis de data de eventos con arma de fuego en USA\n",
    "\n",
    "Para analizar este archivo, lo que hice fue:\n",
    "\n",
    "1. Abrirlo y leerlo en una lista de listas\n",
    "2. Remover encabezados\n",
    "3. Calcular frecuencia de eventos por año (no cambia significativamente)\n",
    "4. Transformar meses y año a datetime objects\n",
    "5. Calcular frecuencia de eventos por cada mes de cada año (tampoco)}\n",
    "6. Calcular frecuencia de eventos por sexo (significativamente mayor para hombres)\n",
    "7. Calcular frecuencia de eventos por etnia (significativamente mayor para Black)\n",
    "\n",
    "Lo que faltaría ver es la proporción de etnias en USA y comparar con la proporción de las frecuencias de eventos."
   ]
  },
  {
   "cell_type": "markdown",
   "metadata": {},
   "source": [
    "## Abro el archivo, lo leo en un str y lo transformo en lista"
   ]
  },
  {
   "cell_type": "code",
   "execution_count": 1,
   "metadata": {
    "collapsed": false
   },
   "outputs": [
    {
     "name": "stdout",
     "output_type": "stream",
     "text": [
      "[['', 'year', 'month', 'intent', 'police', 'sex', 'age', 'race', 'hispanic', 'place', 'education'], ['1', '2012', '01', 'Suicide', '0', 'M', '34', 'Asian/Pacific Islander', '100', 'Home', '4'], ['2', '2012', '01', 'Suicide', '0', 'F', '21', 'White', '100', 'Street', '3'], ['3', '2012', '01', 'Suicide', '0', 'M', '60', 'White', '100', 'Other specified', '4'], ['4', '2012', '02', 'Suicide', '0', 'M', '64', 'White', '100', 'Home', '4']]\n"
     ]
    }
   ],
   "source": [
    "import csv\n",
    "\n",
    "f = open('guns.csv', 'r')\n",
    "readable = csv.reader(f)\n",
    "gunsdata = list(readable)\n",
    "\n",
    "print(gunsdata[0:5])"
   ]
  },
  {
   "cell_type": "markdown",
   "metadata": {},
   "source": [
    "## Remuevo los encabezados"
   ]
  },
  {
   "cell_type": "code",
   "execution_count": 2,
   "metadata": {
    "collapsed": false
   },
   "outputs": [
    {
     "name": "stdout",
     "output_type": "stream",
     "text": [
      "[['1', '2012', '01', 'Suicide', '0', 'M', '34', 'Asian/Pacific Islander', '100', 'Home', '4'], ['2', '2012', '01', 'Suicide', '0', 'F', '21', 'White', '100', 'Street', '3'], ['3', '2012', '01', 'Suicide', '0', 'M', '60', 'White', '100', 'Other specified', '4'], ['4', '2012', '02', 'Suicide', '0', 'M', '64', 'White', '100', 'Home', '4'], ['5', '2012', '02', 'Suicide', '0', 'M', '31', 'White', '100', 'Other specified', '2']]\n"
     ]
    }
   ],
   "source": [
    "headers = gunsdata[0]\n",
    "data = gunsdata[1:]\n",
    "print(data[0:5])"
   ]
  },
  {
   "cell_type": "markdown",
   "metadata": {},
   "source": [
    "## Frecuencia de eventos por año"
   ]
  },
  {
   "cell_type": "code",
   "execution_count": 3,
   "metadata": {
    "collapsed": false
   },
   "outputs": [
    {
     "name": "stdout",
     "output_type": "stream",
     "text": [
      "{'2014': 33599, '2012': 33563, '2013': 33636}\n"
     ]
    }
   ],
   "source": [
    "year_counts = {}\n",
    "\n",
    "# Esto se puede hacer mejor con list comprehension, así:\n",
    "# years = [row[1] for row in data]\n",
    "years = []\n",
    "\n",
    "for row in data:\n",
    "    year = row[1]\n",
    "    years.append(year)\n",
    "    \n",
    "\n",
    "for year in years:\n",
    "    if year in year_counts:\n",
    "        # Esto puede abreviarse como year_counts[year] += 1\n",
    "        year_counts[year] = year_counts[year] + 1\n",
    "    else:\n",
    "        year_counts[year] = 1\n",
    "    \n",
    "print(year_counts)"
   ]
  },
  {
   "cell_type": "markdown",
   "metadata": {},
   "source": [
    "## Frecuencia de eventos por mes y año"
   ]
  },
  {
   "cell_type": "code",
   "execution_count": 4,
   "metadata": {
    "collapsed": false
   },
   "outputs": [
    {
     "name": "stdout",
     "output_type": "stream",
     "text": [
      "[datetime.datetime(2012, 1, 1, 0, 0), datetime.datetime(2012, 1, 1, 0, 0), datetime.datetime(2012, 1, 1, 0, 0), datetime.datetime(2012, 2, 1, 0, 0), datetime.datetime(2012, 2, 1, 0, 0)]\n"
     ]
    }
   ],
   "source": [
    "import datetime\n",
    "\n",
    "# De nuevo, usando list comprehension se puede simplificar así:\n",
    "# dates = [datetime.datetime(year=int(row[1]), month=int(row[2], day=1) for row in data]\n",
    "\n",
    "dates = []\n",
    "\n",
    "for row in data:\n",
    "    row[1] = int(row[1])\n",
    "    row[2] = int(row[2])\n",
    "    date = datetime.datetime(year=row[1], month=row[2], day=1)\n",
    "    dates.append(date)\n",
    "\n",
    "# Esto puede simplificarse como print(dates[:5])\n",
    "print(dates[0:5])"
   ]
  },
  {
   "cell_type": "code",
   "execution_count": 5,
   "metadata": {
    "collapsed": false
   },
   "outputs": [
    {
     "data": {
      "text/plain": [
       "{datetime.datetime(2012, 1, 1, 0, 0): 2758,\n",
       " datetime.datetime(2012, 2, 1, 0, 0): 2357,\n",
       " datetime.datetime(2012, 3, 1, 0, 0): 2743,\n",
       " datetime.datetime(2012, 4, 1, 0, 0): 2795,\n",
       " datetime.datetime(2012, 5, 1, 0, 0): 2999,\n",
       " datetime.datetime(2012, 6, 1, 0, 0): 2826,\n",
       " datetime.datetime(2012, 7, 1, 0, 0): 3026,\n",
       " datetime.datetime(2012, 8, 1, 0, 0): 2954,\n",
       " datetime.datetime(2012, 9, 1, 0, 0): 2852,\n",
       " datetime.datetime(2012, 10, 1, 0, 0): 2733,\n",
       " datetime.datetime(2012, 11, 1, 0, 0): 2729,\n",
       " datetime.datetime(2012, 12, 1, 0, 0): 2791,\n",
       " datetime.datetime(2013, 1, 1, 0, 0): 2864,\n",
       " datetime.datetime(2013, 2, 1, 0, 0): 2375,\n",
       " datetime.datetime(2013, 3, 1, 0, 0): 2862,\n",
       " datetime.datetime(2013, 4, 1, 0, 0): 2798,\n",
       " datetime.datetime(2013, 5, 1, 0, 0): 2806,\n",
       " datetime.datetime(2013, 6, 1, 0, 0): 2920,\n",
       " datetime.datetime(2013, 7, 1, 0, 0): 3079,\n",
       " datetime.datetime(2013, 8, 1, 0, 0): 2859,\n",
       " datetime.datetime(2013, 9, 1, 0, 0): 2742,\n",
       " datetime.datetime(2013, 10, 1, 0, 0): 2808,\n",
       " datetime.datetime(2013, 11, 1, 0, 0): 2758,\n",
       " datetime.datetime(2013, 12, 1, 0, 0): 2765,\n",
       " datetime.datetime(2014, 1, 1, 0, 0): 2651,\n",
       " datetime.datetime(2014, 2, 1, 0, 0): 2361,\n",
       " datetime.datetime(2014, 3, 1, 0, 0): 2684,\n",
       " datetime.datetime(2014, 4, 1, 0, 0): 2862,\n",
       " datetime.datetime(2014, 5, 1, 0, 0): 2864,\n",
       " datetime.datetime(2014, 6, 1, 0, 0): 2931,\n",
       " datetime.datetime(2014, 7, 1, 0, 0): 2884,\n",
       " datetime.datetime(2014, 8, 1, 0, 0): 2970,\n",
       " datetime.datetime(2014, 9, 1, 0, 0): 2914,\n",
       " datetime.datetime(2014, 10, 1, 0, 0): 2865,\n",
       " datetime.datetime(2014, 11, 1, 0, 0): 2756,\n",
       " datetime.datetime(2014, 12, 1, 0, 0): 2857}"
      ]
     },
     "execution_count": 5,
     "metadata": {},
     "output_type": "execute_result"
    }
   ],
   "source": [
    "date_counts = {}\n",
    "\n",
    "for date in dates:\n",
    "    if date in date_counts:\n",
    "        date_counts[date] = date_counts[date] + 1\n",
    "    else:\n",
    "        # Lo puse como 1 y debería ser 0 según la solución\n",
    "        date_counts[date] = 1\n",
    "\n",
    "# Si llamo el objeto directamente se ve mejor que con print...\n",
    "date_counts"
   ]
  },
  {
   "cell_type": "markdown",
   "metadata": {},
   "source": [
    "## Frecuencia de eventos por sexo y etnia"
   ]
  },
  {
   "cell_type": "code",
   "execution_count": 6,
   "metadata": {
    "collapsed": false
   },
   "outputs": [
    {
     "name": "stdout",
     "output_type": "stream",
     "text": [
      "Events by sex:\n",
      "{'M': 86349, 'F': 14449}\n"
     ]
    }
   ],
   "source": [
    "sex_counts = {}\n",
    "\n",
    "# Usando list comprehension podemos simplicar esto a sexes = [row[5] for row in data]\n",
    "\n",
    "for row in data:\n",
    "    sex = row[5]\n",
    "    if sex in sex_counts:\n",
    "        sex_counts[sex] = sex_counts[sex] + 1\n",
    "    else:\n",
    "        sex_counts[sex] = 1\n",
    "\n",
    "print('Events by sex:')\n",
    "print(sex_counts)"
   ]
  },
  {
   "cell_type": "code",
   "execution_count": 7,
   "metadata": {
    "collapsed": false
   },
   "outputs": [
    {
     "name": "stdout",
     "output_type": "stream",
     "text": [
      "Events by race:\n",
      "{'White': 66237, 'Hispanic': 9022, 'Native American/Native Alaskan': 917, 'Black': 23296, 'Asian/Pacific Islander': 1326}\n"
     ]
    }
   ],
   "source": [
    "race_counts = {}\n",
    "\n",
    "# Usando list comprehension podemos simplicar esto a races = [row[7] for row in data]\n",
    "\n",
    "for row in data:\n",
    "    race = row[7]\n",
    "    if race in race_counts:\n",
    "        race_counts[race] = race_counts[race] + 1\n",
    "    else:\n",
    "        race_counts[race] = 1\n",
    "        \n",
    "print('Events by race:')\n",
    "print(race_counts)"
   ]
  },
  {
   "cell_type": "markdown",
   "metadata": {},
   "source": [
    "## Hallazgos hasta ahora\n",
    "\n",
    "- Desproporción entre sexos, siendo mayoría de afectados de sexo masculino\n",
    "- Desproporción entre etnias, conviene tener datos poblacionales para saber valores relativos\n",
    "- Sería útil filtrar por tipo de evento (homicidio, suicidio, etc)"
   ]
  },
  {
   "cell_type": "markdown",
   "metadata": {},
   "source": [
    "## Sumando información censal"
   ]
  },
  {
   "cell_type": "code",
   "execution_count": 8,
   "metadata": {
    "collapsed": false
   },
   "outputs": [
    {
     "data": {
      "text/plain": [
       "[['Id',\n",
       "  'Year',\n",
       "  'Id',\n",
       "  'Sex',\n",
       "  'Id',\n",
       "  'Hispanic Origin',\n",
       "  'Id',\n",
       "  'Id2',\n",
       "  'Geography',\n",
       "  'Total',\n",
       "  'Race Alone - White',\n",
       "  'Race Alone - Hispanic',\n",
       "  'Race Alone - Black or African American',\n",
       "  'Race Alone - American Indian and Alaska Native',\n",
       "  'Race Alone - Asian',\n",
       "  'Race Alone - Native Hawaiian and Other Pacific Islander',\n",
       "  'Two or More Races'],\n",
       " ['cen42010',\n",
       "  'April 1, 2010 Census',\n",
       "  'totsex',\n",
       "  'Both Sexes',\n",
       "  'tothisp',\n",
       "  'Total',\n",
       "  '0100000US',\n",
       "  '',\n",
       "  'United States',\n",
       "  '308745538',\n",
       "  '197318956',\n",
       "  '44618105',\n",
       "  '40250635',\n",
       "  '3739506',\n",
       "  '15159516',\n",
       "  '674625',\n",
       "  '6984195']]"
      ]
     },
     "execution_count": 8,
     "metadata": {},
     "output_type": "execute_result"
    }
   ],
   "source": [
    "file = open('census.csv', 'r')\n",
    "census = list(csv.reader(file))\n",
    "\n",
    "census"
   ]
  },
  {
   "cell_type": "markdown",
   "metadata": {},
   "source": [
    "## Calculando eventos por etnia con base poblacional"
   ]
  },
  {
   "cell_type": "markdown",
   "metadata": {},
   "source": [
    "**Ingreso a mi diccionario las categorías étnicas que me interesan, con valor 0**"
   ]
  },
  {
   "cell_type": "code",
   "execution_count": 9,
   "metadata": {
    "collapsed": false
   },
   "outputs": [
    {
     "name": "stdout",
     "output_type": "stream",
     "text": [
      "{'White': 0, 'Hispanic': 0, 'Asian/Pacific Islander': 0, 'Black': 0, 'Native American/Native Alaskan': 0}\n"
     ]
    }
   ],
   "source": [
    "mapping ={}\n",
    "\n",
    "for race, count in race_counts.items():\n",
    "    if race not in mapping:\n",
    "        mapping[race] = 0\n",
    "\n",
    "print(mapping)"
   ]
  },
  {
   "cell_type": "markdown",
   "metadata": {},
   "source": [
    "**Asigno variables a los encabezados y a la fila de datos del censo**"
   ]
  },
  {
   "cell_type": "code",
   "execution_count": 10,
   "metadata": {
    "collapsed": false
   },
   "outputs": [
    {
     "name": "stdout",
     "output_type": "stream",
     "text": [
      "['Id', 'Year', 'Id', 'Sex', 'Id', 'Hispanic Origin', 'Id', 'Id2', 'Geography', 'Total', 'Race Alone - White', 'Race Alone - Hispanic', 'Race Alone - Black or African American', 'Race Alone - American Indian and Alaska Native', 'Race Alone - Asian', 'Race Alone - Native Hawaiian and Other Pacific Islander', 'Two or More Races']\n",
      "['cen42010', 'April 1, 2010 Census', 'totsex', 'Both Sexes', 'tothisp', 'Total', '0100000US', '', 'United States', '308745538', '197318956', '44618105', '40250635', '3739506', '15159516', '674625', '6984195']\n"
     ]
    }
   ],
   "source": [
    "tags = census[0]\n",
    "numbers = census[1]\n",
    "\n",
    "print(tags)\n",
    "print(numbers)"
   ]
  },
  {
   "cell_type": "markdown",
   "metadata": {},
   "source": [
    "**Trato de matchear tags con los que me interesan, eliminando str como 'Race alone' o caracteres especiales**"
   ]
  },
  {
   "cell_type": "code",
   "execution_count": 11,
   "metadata": {
    "collapsed": false
   },
   "outputs": [],
   "source": [
    "import re\n",
    "\n",
    "tags = str(tags)\n",
    "tags = re.sub(\"Race Alone -\", \"\", tags)\n",
    "tags = re.sub(\"\\'|\\]|\\[\", \"\", tags)"
   ]
  },
  {
   "cell_type": "markdown",
   "metadata": {},
   "source": [
    "**Convierto los tags en lista y dejo los que necesito**"
   ]
  },
  {
   "cell_type": "code",
   "execution_count": 12,
   "metadata": {
    "collapsed": false
   },
   "outputs": [
    {
     "name": "stdout",
     "output_type": "stream",
     "text": [
      "['Id', ' Year', ' Id', ' Sex', ' Id', ' Hispanic Origin', ' Id', ' Id2', ' Geography', ' Total', '  White', '  Hispanic', '  Black or African American', '  American Indian and Alaska Native', '  Asian', '  Native Hawaiian and Other Pacific Islander', ' Two or More Races']\n"
     ]
    }
   ],
   "source": [
    "tags_lista = tags.split(',')\n",
    "print(tags_lista)"
   ]
  },
  {
   "cell_type": "code",
   "execution_count": 13,
   "metadata": {
    "collapsed": false
   },
   "outputs": [
    {
     "name": "stdout",
     "output_type": "stream",
     "text": [
      "['  White', '  Hispanic', '  Black or African American', '  American Indian and Alaska Native', '  Asian', '  Native Hawaiian and Other Pacific Islander']\n",
      "['197318956', '44618105', '40250635', '3739506', '15159516', '674625']\n"
     ]
    }
   ],
   "source": [
    "tags_lista = tags_lista[10:16]\n",
    "numbers = numbers[10:16]\n",
    "\n",
    "print(tags_lista)\n",
    "print(numbers)"
   ]
  },
  {
   "cell_type": "markdown",
   "metadata": {},
   "source": [
    "**Armo un diccionario a partir del censo, con los tags como keys y los datos como value**"
   ]
  },
  {
   "cell_type": "code",
   "execution_count": 14,
   "metadata": {
    "collapsed": false
   },
   "outputs": [
    {
     "name": "stdout",
     "output_type": "stream",
     "text": [
      "Index y tags\n",
      "\n",
      "0   White\n",
      "1   Hispanic\n",
      "2   Black or African American\n",
      "3   American Indian and Alaska Native\n",
      "4   Asian\n",
      "5   Native Hawaiian and Other Pacific Islander\n",
      "\n",
      "Datos del censo, con categorías étnicas distintas a lo que necesito\n"
     ]
    },
    {
     "data": {
      "text/plain": [
       "{'  American Indian and Alaska Native': '3739506',\n",
       " '  Asian': '15159516',\n",
       " '  Black or African American': '40250635',\n",
       " '  Hispanic': '44618105',\n",
       " '  Native Hawaiian and Other Pacific Islander': '674625',\n",
       " '  White': '197318956'}"
      ]
     },
     "execution_count": 14,
     "metadata": {},
     "output_type": "execute_result"
    }
   ],
   "source": [
    "datocensal = {}\n",
    "\n",
    "print('Index y tags')\n",
    "print()\n",
    "\n",
    "for i, tag in enumerate(tags_lista):\n",
    "        datocensal[tag] = numbers[i]\n",
    "        print(i, tag)\n",
    "\n",
    "print()\n",
    "print('Datos del censo, con categorías étnicas distintas a lo que necesito')        \n",
    "datocensal"
   ]
  },
  {
   "cell_type": "code",
   "execution_count": 15,
   "metadata": {
    "collapsed": false
   },
   "outputs": [
    {
     "name": "stdout",
     "output_type": "stream",
     "text": [
      "Categorías que necesito\n",
      "\n"
     ]
    },
    {
     "data": {
      "text/plain": [
       "{'Asian/Pacific Islander': 0,\n",
       " 'Black': 0,\n",
       " 'Hispanic': 0,\n",
       " 'Native American/Native Alaskan': 0,\n",
       " 'White': 0}"
      ]
     },
     "execution_count": 15,
     "metadata": {},
     "output_type": "execute_result"
    }
   ],
   "source": [
    "print('Categorías que necesito')\n",
    "print()\n",
    "mapping"
   ]
  },
  {
   "cell_type": "markdown",
   "metadata": {},
   "source": [
    "**Asigno a cada etnia en mapping los datos poblacionales, combinando ambos diccionarios**\n"
   ]
  },
  {
   "cell_type": "code",
   "execution_count": 23,
   "metadata": {
    "collapsed": false
   },
   "outputs": [
    {
     "name": "stdout",
     "output_type": "stream",
     "text": [
      "Población USA por etnias\n",
      "\n",
      "{'White': 197318956, 'Hispanic': 44618105, 'Black': 40250635, 'Native American/Native Alaskan': 3739506, 'Asian/Pacific Islander': 15834141}\n",
      "\n",
      "Eventos armas de fuego por etnias\n"
     ]
    },
    {
     "data": {
      "text/plain": [
       "{'Asian/Pacific Islander': 1326,\n",
       " 'Black': 23296,\n",
       " 'Hispanic': 9022,\n",
       " 'Native American/Native Alaskan': 917,\n",
       " 'White': 66237}"
      ]
     },
     "execution_count": 23,
     "metadata": {},
     "output_type": "execute_result"
    }
   ],
   "source": [
    "# El cálculo daba mal porque me había olvidado de pasar str a int...\n",
    "\n",
    "mapping = {\n",
    "    'White': int(numbers[0]), \n",
    "    'Hispanic': int(numbers[1]), \n",
    "    'Asian/Pacific Islander': int(numbers[4]) + int(numbers[5]), \n",
    "    'Black': int(numbers[2]), \n",
    "    'Native American/Native Alaskan': int(numbers[3])\n",
    "}\n",
    "\n",
    "print('Población USA por etnias')\n",
    "print()\n",
    "print(mapping)\n",
    "print()\n",
    "print('Eventos armas de fuego por etnias')\n",
    "race_counts"
   ]
  },
  {
   "cell_type": "markdown",
   "metadata": {},
   "source": [
    "**Saco el cálculo en base a la población (por 100k)**"
   ]
  },
  {
   "cell_type": "code",
   "execution_count": 24,
   "metadata": {
    "collapsed": false
   },
   "outputs": [
    {
     "data": {
      "text/plain": [
       "{'Asian/Pacific Islander': 8.374309664161762,\n",
       " 'Black': 57.8773477735196,\n",
       " 'Hispanic': 20.220491210910907,\n",
       " 'Native American/Native Alaskan': 24.521955573811088,\n",
       " 'White': 33.56849303419181}"
      ]
     },
     "execution_count": 24,
     "metadata": {},
     "output_type": "execute_result"
    }
   ],
   "source": [
    "race_per_hundredk = {}\n",
    "\n",
    "# Esto se puede simplificar así:\n",
    "# for k,v in race_counts.items():\n",
    "#     race_per_hundredk[race] = (v / mapping[k]) * 100000\n",
    "\n",
    "for race, counts in race_counts.items():\n",
    "    for etnia, population in mapping.items():\n",
    "        population = int(population)\n",
    "        if race == etnia:\n",
    "            race_per_hundredk[race] = (counts / population)*100000\n",
    "            \n",
    "race_per_hundredk\n"
   ]
  },
  {
   "cell_type": "markdown",
   "metadata": {},
   "source": [
    "### Filtrando por homicidios"
   ]
  },
  {
   "cell_type": "code",
   "execution_count": 18,
   "metadata": {
    "collapsed": false
   },
   "outputs": [],
   "source": [
    "# Uso list comprehension para aislar data de columnas\n",
    "\n",
    "intents = [row[3] for row in data]\n",
    "races = [row[7] for row in data]"
   ]
  },
  {
   "cell_type": "code",
   "execution_count": 25,
   "metadata": {
    "collapsed": false
   },
   "outputs": [
    {
     "name": "stdout",
     "output_type": "stream",
     "text": [
      "{'White': 9147, 'Hispanic': 5634, 'Black': 19510, 'Native American/Native Alaskan': 326, 'Asian/Pacific Islander': 559}\n"
     ]
    }
   ],
   "source": [
    "homicide_rate_counts = {}\n",
    "\n",
    "for i, race in enumerate(races):\n",
    "    if intents[i] == 'Homicide':\n",
    "        if race in homicide_rate_counts:\n",
    "            homicide_rate_counts[race] = homicide_rate_counts[race] + 1\n",
    "        else:\n",
    "            homicide_rate_counts[race] = 1\n",
    "\n",
    "print(homicide_rate_counts)"
   ]
  },
  {
   "cell_type": "code",
   "execution_count": 26,
   "metadata": {
    "collapsed": false
   },
   "outputs": [
    {
     "data": {
      "text/plain": [
       "{'Asian/Pacific Islander': 3.530346230970155,\n",
       " 'Black': 48.471284987180944,\n",
       " 'Hispanic': 12.627161104219914,\n",
       " 'Native American/Native Alaskan': 8.717729026240365,\n",
       " 'White': 4.6356417981453335}"
      ]
     },
     "execution_count": 26,
     "metadata": {},
     "output_type": "execute_result"
    }
   ],
   "source": [
    "# From raw numbers to rates per 100000:\n",
    "\n",
    "# Esto se puede simplificar:\n",
    "# for k,v in homicide_rate_counts.items():\n",
    "#      race_per_hundredk[k] = (v / mapping[k]) * 100000\n",
    "\n",
    "for race, counts in homicide_rate_counts.items():\n",
    "    for etnia, population in mapping.items():\n",
    "        population = int(population)\n",
    "        if race == etnia:\n",
    "            race_per_hundredk[race] = (counts / population) * 100000\n",
    "            \n",
    "race_per_hundredk"
   ]
  },
  {
   "cell_type": "markdown",
   "metadata": {
    "collapsed": true
   },
   "source": [
    "## Hallazgos\n",
    "\n",
    "Cuando se toma la base poblacional y se filtra por homicidios, la desproporción de cómo los eventos afectan a las minorías negras e hispánicas es significativa.\n",
    "\n",
    "Para seguir:\n",
    "- Homicidios por sexos, locación y nivel educativo\n",
    "- Otros tipos de eventos por sexo, locación y nivel educativo\n",
    "- Variaciones estacionales y homicidios\n"
   ]
  },
  {
   "cell_type": "code",
   "execution_count": null,
   "metadata": {
    "collapsed": true
   },
   "outputs": [],
   "source": []
  },
  {
   "cell_type": "code",
   "execution_count": null,
   "metadata": {
    "collapsed": true
   },
   "outputs": [],
   "source": []
  }
 ],
 "metadata": {
  "kernelspec": {
   "display_name": "Python 3",
   "language": "python",
   "name": "python3"
  },
  "language_info": {
   "codemirror_mode": {
    "name": "ipython",
    "version": 3
   },
   "file_extension": ".py",
   "mimetype": "text/x-python",
   "name": "python",
   "nbconvert_exporter": "python",
   "pygments_lexer": "ipython3",
   "version": "3.4.3"
  }
 },
 "nbformat": 4,
 "nbformat_minor": 0
}
